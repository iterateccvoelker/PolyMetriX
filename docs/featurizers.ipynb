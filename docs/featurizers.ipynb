{
 "cells": [
  {
   "cell_type": "code",
   "execution_count": 2,
   "metadata": {},
   "outputs": [],
   "source": [
    "from polymetrix.featurizers.polymer import Polymer\n",
    "\n",
    "from polymetrix.featurizers.chemical_featurizer import (\n",
    "    NumHBondDonors,\n",
    "    NumHBondAcceptors,\n",
    "    NumRotatableBonds,\n",
    "    NumRings,\n",
    "    NumNonAromaticRings,\n",
    "    NumAromaticRings,\n",
    "    NumAtoms,\n",
    "    TopologicalSurfaceArea,\n",
    "    FractionBicyclicRings,\n",
    "    NumAliphaticHeterocycles,\n",
    "    SlogPVSA1,\n",
    "    BalabanJIndex,\n",
    "    MolecularWeightFeaturizer,\n",
    "    Sp3CarbonCountFeaturizer,\n",
    "    Sp2CarbonCountFeaturizer,\n",
    "    MaxEStateIndex,\n",
    "    SMR_VSA5,\n",
    "    FpDensityMorgan1,\n",
    "    HalogenCounts,\n",
    "    BondCounts,\n",
    "    BridgingRingsCount,\n",
    "    MaxRingSize,\n",
    "    HeteroatomCount,\n",
    "    HeteroatomDensity,\n",
    ")\n",
    "\n",
    "from polymetrix.featurizers.sidechain_backbone_featurizer import (\n",
    "    SideChainFeaturizer,\n",
    "    NumSideChainFeaturizer,\n",
    "    BackBoneFeaturizer,\n",
    "    NumBackBoneFeaturizer,\n",
    "    FullPolymerFeaturizer,\n",
    "    SidechainLengthToStarAttachmentDistanceRatioFeaturizer,\n",
    "    StarToSidechainMinDistanceFeaturizer,\n",
    "    SidechainDiversityFeaturizer,\n",
    ")\n",
    "\n",
    "from polymetrix.featurizers.multiple_featurizer import MultipleFeaturizer"
   ]
  },
  {
   "cell_type": "markdown",
   "metadata": {},
   "source": [
    "### Full Polymer Featurization"
   ]
  },
  {
   "cell_type": "code",
   "execution_count": 3,
   "metadata": {},
   "outputs": [
    {
     "name": "stdout",
     "output_type": "stream",
     "text": [
      "\n",
      "=== Full Polymer Features ===\n",
      "\n",
      "PSMILES: c1ccccc1[*]CCO[*]\n",
      "Labels: ['num_rings_sum_fullpolymerfeaturizer', 'molecular_weight_sum_fullpolymerfeaturizer', 'topological_surface_area_sum_fullpolymerfeaturizer']\n",
      "Values: [  1.         121.06533991   9.23      ]\n",
      "\n",
      "PSMILES: CC[*]CCCC[*]\n",
      "Labels: ['num_rings_sum_fullpolymerfeaturizer', 'molecular_weight_sum_fullpolymerfeaturizer', 'topological_surface_area_sum_fullpolymerfeaturizer']\n",
      "Values: [ 0.         85.10172542  0.        ]\n"
     ]
    }
   ],
   "source": [
    "psmiles_list = [\n",
    "    \"c1ccccc1[*]CCO[*]\",\n",
    "    \"CC[*]CCCC[*]\",\n",
    "]\n",
    "\n",
    "full_featurizers = [\n",
    "    FullPolymerFeaturizer(NumRings()),\n",
    "    FullPolymerFeaturizer(MolecularWeightFeaturizer()),\n",
    "    FullPolymerFeaturizer(TopologicalSurfaceArea()),\n",
    "]\n",
    "full_multi_featurizer = MultipleFeaturizer(full_featurizers)\n",
    "\n",
    "print(\"\\n=== Full Polymer Features ===\")\n",
    "for psmiles in psmiles_list:\n",
    "    polymer = Polymer.from_psmiles(psmiles)\n",
    "    features = full_multi_featurizer.featurize(polymer)\n",
    "    labels = full_multi_featurizer.feature_labels()\n",
    "    print(f\"\\nPSMILES: {psmiles}\")\n",
    "    print(\"Labels:\", labels)\n",
    "    print(\"Values:\", features)\n"
   ]
  },
  {
   "cell_type": "markdown",
   "metadata": {},
   "source": [
    "### Side Chain Featurization"
   ]
  },
  {
   "cell_type": "code",
   "execution_count": 4,
   "metadata": {},
   "outputs": [
    {
     "name": "stdout",
     "output_type": "stream",
     "text": [
      "\n",
      "=== Sidechain Features ===\n",
      "\n",
      "PSMILES: c1ccccc1[*]CCO[*]\n",
      "Labels: ['numsidechainfeaturizer', 'num_atoms_sidechainfeaturizer_sum', 'num_hbond_donors_sidechainfeaturizer_sum', 'num_rotatable_bonds_sidechainfeaturizer_sum']\n",
      "Values: [1 6 0 0]\n",
      "\n",
      "PSMILES: CC[*]CCCC[*]\n",
      "Labels: ['numsidechainfeaturizer', 'num_atoms_sidechainfeaturizer_sum', 'num_hbond_donors_sidechainfeaturizer_sum', 'num_rotatable_bonds_sidechainfeaturizer_sum']\n",
      "Values: [1 2 0 0]\n"
     ]
    }
   ],
   "source": [
    "sidechain_featurizers = [\n",
    "    NumSideChainFeaturizer(),\n",
    "    SideChainFeaturizer(NumAtoms(agg=[\"sum\"])),\n",
    "    SideChainFeaturizer(NumHBondDonors(agg=[\"sum\"])),\n",
    "    SideChainFeaturizer(NumRotatableBonds(agg=[\"sum\"])),\n",
    "]\n",
    "sidechain_multi_featurizer = MultipleFeaturizer(sidechain_featurizers)\n",
    "\n",
    "print(\"\\n=== Sidechain Features ===\")\n",
    "for psmiles in psmiles_list:\n",
    "    polymer = Polymer.from_psmiles(psmiles)\n",
    "    features = sidechain_multi_featurizer.featurize(polymer)\n",
    "    labels = sidechain_multi_featurizer.feature_labels()\n",
    "    print(f\"\\nPSMILES: {psmiles}\")\n",
    "    print(\"Labels:\", labels)\n",
    "    print(\"Values:\", features)\n",
    "\n"
   ]
  },
  {
   "cell_type": "markdown",
   "metadata": {},
   "source": [
    "### Backbone Featurization"
   ]
  },
  {
   "cell_type": "code",
   "execution_count": 5,
   "metadata": {},
   "outputs": [
    {
     "name": "stdout",
     "output_type": "stream",
     "text": [
      "\n",
      "=== Backbone Features ===\n",
      "\n",
      "PSMILES: c1ccccc1[*]CCO[*]\n",
      "Labels: ['numbackbonefeaturizer', 'num_rings_sum_backbonefeaturizer', 'num_atoms_sum_backbonefeaturizer', 'topological_surface_area_sum_backbonefeaturizer']\n",
      "Values: [1.   0.   5.   9.23]\n",
      "\n",
      "PSMILES: CC[*]CCCC[*]\n",
      "Labels: ['numbackbonefeaturizer', 'num_rings_sum_backbonefeaturizer', 'num_atoms_sum_backbonefeaturizer', 'topological_surface_area_sum_backbonefeaturizer']\n",
      "Values: [1. 0. 6. 0.]\n"
     ]
    }
   ],
   "source": [
    "backbone_featurizers = [\n",
    "    NumBackBoneFeaturizer(),\n",
    "    BackBoneFeaturizer(NumRings()),\n",
    "    BackBoneFeaturizer(NumAtoms()),\n",
    "    BackBoneFeaturizer(TopologicalSurfaceArea()),\n",
    "]\n",
    "backbone_multi_featurizer = MultipleFeaturizer(backbone_featurizers)\n",
    "\n",
    "print(\"\\n=== Backbone Features ===\")\n",
    "for psmiles in psmiles_list:\n",
    "    polymer = Polymer.from_psmiles(psmiles)\n",
    "    features = backbone_multi_featurizer.featurize(polymer)\n",
    "    labels = backbone_multi_featurizer.feature_labels()\n",
    "    print(f\"\\nPSMILES: {psmiles}\")\n",
    "    print(\"Labels:\", labels)\n",
    "    print(\"Values:\", features)"
   ]
  }
 ],
 "metadata": {
  "kernelspec": {
   "display_name": "polymetrix",
   "language": "python",
   "name": "python3"
  },
  "language_info": {
   "codemirror_mode": {
    "name": "ipython",
    "version": 3
   },
   "file_extension": ".py",
   "mimetype": "text/x-python",
   "name": "python",
   "nbconvert_exporter": "python",
   "pygments_lexer": "ipython3",
   "version": "3.10.14"
  }
 },
 "nbformat": 4,
 "nbformat_minor": 2
}
