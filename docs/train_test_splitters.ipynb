{
 "cells": [
  {
   "cell_type": "code",
   "execution_count": 42,
   "metadata": {},
   "outputs": [],
   "source": [
    "%reload_ext autoreload\n",
    "%autoreload 2"
   ]
  },
  {
   "cell_type": "code",
   "execution_count": 44,
   "metadata": {},
   "outputs": [],
   "source": [
    "import numpy as np\n",
    "import logging\n",
    "from polymetrix.datasets.curated_tg_dataset import CuratedGlassTempDataset\n",
    "from sklearn.ensemble import GradientBoostingRegressor\n",
    "from sklearn.metrics import mean_absolute_error\n",
    "from sklearn.model_selection import train_test_split, KFold\n",
    "from mofdscribe.splitters.splitters import LOCOCV\n",
    "from polymetrix.splitters.splitters import TgSplitter"
   ]
  },
  {
   "cell_type": "code",
   "execution_count": 45,
   "metadata": {},
   "outputs": [
    {
     "name": "stderr",
     "output_type": "stream",
     "text": [
      "INFO: Number of samples: 7367\n",
      "INFO: Feature columns: ['sidechainlevel.features.num_atoms_sidechainfeaturizer_sum', 'sidechainlevel.features.num_atoms_sidechainfeaturizer_mean', 'sidechainlevel.features.num_atoms_sidechainfeaturizer_max', 'sidechainlevel.features.num_atoms_sidechainfeaturizer_min', 'sidechainlevel.features.numsidechainfeaturizer', 'sidechainlevel.features.sidechainlength_to_star_attachment_distance_ratio_mean', 'sidechainlevel.features.sidechainlength_to_star_attachment_distance_ratio_min', 'sidechainlevel.features.sidechainlength_to_star_attachment_distance_ratio_max', 'sidechainlevel.features.sidechainlength_to_star_attachment_distance_ratio_sum', 'sidechainlevel.features.star_to_sidechain_min_distance_mean', 'sidechainlevel.features.star_to_sidechain_min_distance_min', 'sidechainlevel.features.star_to_sidechain_min_distance_max', 'sidechainlevel.features.star_to_sidechain_min_distance_sum', 'sidechainlevel.features.num_diverse_sidechains', 'sidechainlevel.features.balaban_j_index_sidechainfeaturizer_sum', 'sidechainlevel.features.num_hbond_donors_sidechainfeaturizer_sum', 'sidechainlevel.features.num_hbond_acceptors_sidechainfeaturizer_sum', 'sidechainlevel.features.num_rotatable_bonds_sidechainfeaturizer_sum', 'sidechainlevel.features.num_rings_sidechainfeaturizer_sum', 'sidechainlevel.features.num_non_aromatic_rings_sidechainfeaturizer_sum', 'sidechainlevel.features.num_aromatic_rings_sidechainfeaturizer_sum', 'sidechainlevel.features.topological_surface_area_sidechainfeaturizer_sum', 'sidechainlevel.features.fraction_bicyclic_rings_sidechainfeaturizer_sum', 'sidechainlevel.features.num_aliphatic_heterocycles_sidechainfeaturizer_sum', 'sidechainlevel.features.slogp_vsa1_sidechainfeaturizer_sum', 'sidechainlevel.features.molecular_weight_sidechainfeaturizer_sum', 'sidechainlevel.features.sp3_carbon_count_sidechainfeaturizer_sum', 'sidechainlevel.features.sp2_carbon_count_sidechainfeaturizer_sum', 'sidechainlevel.features.max_estate_index_sidechainfeaturizer_sum', 'sidechainlevel.features.smr_vsa5_sidechainfeaturizer_sum', 'sidechainlevel.features.fp_density_morgan1_sidechainfeaturizer_sum', 'sidechainlevel.features.total_halogens_sidechainfeaturizer_sum', 'sidechainlevel.features.fluorine_count_sidechainfeaturizer_sum', 'sidechainlevel.features.chlorine_count_sidechainfeaturizer_sum', 'sidechainlevel.features.bromine_count_sidechainfeaturizer_sum', 'sidechainlevel.features.single_bonds_sidechainfeaturizer_sum', 'sidechainlevel.features.double_bonds_sidechainfeaturizer_sum', 'sidechainlevel.features.triple_bonds_sidechainfeaturizer_sum', 'sidechainlevel.features.bridging_rings_count_sidechainfeaturizer_sum', 'sidechainlevel.features.max_ring_size_sidechainfeaturizer_sum', 'sidechainlevel.features.heteroatom_density_sidechainfeaturizer_sum', 'sidechainlevel.features.heteroatom_count_sidechainfeaturizer_sum', 'backbonelevel.features.num_atoms_sum_backbonefeaturizer', 'backbonelevel.features.numbackbonefeaturizer', 'backbonelevel.features.balaban_j_index_sum_backbonefeaturizer', 'backbonelevel.features.num_hbond_donors_sum_backbonefeaturizer', 'backbonelevel.features.num_hbond_acceptors_sum_backbonefeaturizer', 'backbonelevel.features.num_rotatable_bonds_sum_backbonefeaturizer', 'backbonelevel.features.num_rings_sum_backbonefeaturizer', 'backbonelevel.features.num_non_aromatic_rings_sum_backbonefeaturizer', 'backbonelevel.features.num_aromatic_rings_sum_backbonefeaturizer', 'backbonelevel.features.topological_surface_area_sum_backbonefeaturizer', 'backbonelevel.features.fraction_bicyclic_rings_sum_backbonefeaturizer', 'backbonelevel.features.num_aliphatic_heterocycles_sum_backbonefeaturizer', 'backbonelevel.features.slogp_vsa1_sum_backbonefeaturizer', 'backbonelevel.features.molecular_weight_sum_backbonefeaturizer', 'backbonelevel.features.sp3_carbon_count_sum_backbonefeaturizer', 'backbonelevel.features.sp2_carbon_count_sum_backbonefeaturizer', 'backbonelevel.features.max_estate_index_sum_backbonefeaturizer', 'backbonelevel.features.smr_vsa5_sum_backbonefeaturizer', 'backbonelevel.features.fp_density_morgan1_sum_backbonefeaturizer', 'backbonelevel.features.total_halogens_sum_backbonefeaturizer', 'backbonelevel.features.fluorine_count_sum_backbonefeaturizer', 'backbonelevel.features.chlorine_count_sum_backbonefeaturizer', 'backbonelevel.features.bromine_count_sum_backbonefeaturizer', 'backbonelevel.features.single_bonds_sum_backbonefeaturizer', 'backbonelevel.features.double_bonds_sum_backbonefeaturizer', 'backbonelevel.features.triple_bonds_sum_backbonefeaturizer', 'backbonelevel.features.bridging_rings_count_sum_backbonefeaturizer', 'backbonelevel.features.max_ring_size_sum_backbonefeaturizer', 'backbonelevel.features.heteroatom_density_sum_backbonefeaturizer', 'backbonelevel.features.heteroatom_count_sum_backbonefeaturizer', 'fullpolymerlevel.features.balaban_j_index_sum_fullpolymerfeaturizer', 'fullpolymerlevel.features.num_hbond_donors_sum_fullpolymerfeaturizer', 'fullpolymerlevel.features.num_hbond_acceptors_sum_fullpolymerfeaturizer', 'fullpolymerlevel.features.num_rotatable_bonds_sum_fullpolymerfeaturizer', 'fullpolymerlevel.features.num_rings_sum_fullpolymerfeaturizer', 'fullpolymerlevel.features.num_non_aromatic_rings_sum_fullpolymerfeaturizer', 'fullpolymerlevel.features.num_aromatic_rings_sum_fullpolymerfeaturizer', 'fullpolymerlevel.features.topological_surface_area_sum_fullpolymerfeaturizer', 'fullpolymerlevel.features.fraction_bicyclic_rings_sum_fullpolymerfeaturizer', 'fullpolymerlevel.features.num_aliphatic_heterocycles_sum_fullpolymerfeaturizer', 'fullpolymerlevel.features.slogp_vsa1_sum_fullpolymerfeaturizer', 'fullpolymerlevel.features.molecular_weight_sum_fullpolymerfeaturizer', 'fullpolymerlevel.features.sp3_carbon_count_sum_fullpolymerfeaturizer', 'fullpolymerlevel.features.sp2_carbon_count_sum_fullpolymerfeaturizer', 'fullpolymerlevel.features.max_estate_index_sum_fullpolymerfeaturizer', 'fullpolymerlevel.features.smr_vsa5_sum_fullpolymerfeaturizer', 'fullpolymerlevel.features.fp_density_morgan1_sum_fullpolymerfeaturizer', 'fullpolymerlevel.features.total_halogens_sum_fullpolymerfeaturizer', 'fullpolymerlevel.features.fluorine_count_sum_fullpolymerfeaturizer', 'fullpolymerlevel.features.chlorine_count_sum_fullpolymerfeaturizer', 'fullpolymerlevel.features.bromine_count_sum_fullpolymerfeaturizer', 'fullpolymerlevel.features.single_bonds_sum_fullpolymerfeaturizer', 'fullpolymerlevel.features.double_bonds_sum_fullpolymerfeaturizer', 'fullpolymerlevel.features.triple_bonds_sum_fullpolymerfeaturizer', 'fullpolymerlevel.features.bridging_rings_count_sum_fullpolymerfeaturizer', 'fullpolymerlevel.features.max_ring_size_sum_fullpolymerfeaturizer', 'fullpolymerlevel.features.heteroatom_density_sum_fullpolymerfeaturizer', 'fullpolymerlevel.features.heteroatom_count_sum_fullpolymerfeaturizer']\n",
      "INFO: Active feature levels: ['sidechainlevel', 'backbonelevel', 'fullpolymerlevel']\n"
     ]
    }
   ],
   "source": [
    "# Configuration\n",
    "VERSION = \"v11\"\n",
    "URL = \"https://zenodo.org/records/14945126/files/LAMALAB_CURATED_Tg_structured.csv?download=1\"\n",
    "RANDOM_STATE = 42\n",
    "\n",
    "# Initialize logging\n",
    "logging.basicConfig(level=logging.INFO, format=\"%(levelname)s: %(message)s\")\n",
    "\n",
    "# Load dataset\n",
    "dataset = CuratedGlassTempDataset(\n",
    "    version=VERSION,\n",
    "    url=URL,\n",
    "    feature_levels=[\"sidechainlevel\", \"backbonelevel\", \"fullpolymerlevel\"]\n",
    ")\n",
    "\n",
    "# Extract features and labels\n",
    "X = dataset.get_features(idx=np.arange(len(dataset)))\n",
    "y = dataset.get_labels(idx=np.arange(len(dataset)), label_names=[\"labels.Exp_Tg(K)\"]).ravel()\n",
    "\n",
    "# Dataset info logging\n",
    "logging.info(f\"Number of samples: {len(dataset)}\")\n",
    "logging.info(f\"Feature columns: {dataset.available_features}\")\n",
    "logging.info(f\"Active feature levels: {dataset.active_feature_levels}\")"
   ]
  },
  {
   "cell_type": "markdown",
   "metadata": {},
   "source": [
    "### Evaluation and modeling functions"
   ]
  },
  {
   "cell_type": "code",
   "execution_count": 49,
   "metadata": {},
   "outputs": [],
   "source": [
    "def train_and_evaluate(X_train, X_test, y_train, y_test):\n",
    "    model = GradientBoostingRegressor(random_state=RANDOM_STATE)\n",
    "    model.fit(X_train, y_train)\n",
    "    preds = model.predict(X_test)\n",
    "    return mean_absolute_error(y_test, preds)\n",
    "\n",
    "def log_splits(X_train, X_valid, X_test):\n",
    "    \"\"\"Log split sizes\"\"\"\n",
    "    logging.info(f\"Training set: {len(X_train)} samples\")\n",
    "    logging.info(f\"Validation set: {len(X_valid) if X_valid is not None else 0} samples\") \n",
    "    logging.info(f\"Test set: {len(X_test)} samples\")"
   ]
  },
  {
   "cell_type": "markdown",
   "metadata": {},
   "source": [
    "### 1: Random Split \n",
    "Traditional train/valid/test split"
   ]
  },
  {
   "cell_type": "code",
   "execution_count": 50,
   "metadata": {},
   "outputs": [
    {
     "name": "stderr",
     "output_type": "stream",
     "text": [
      "INFO: Training set: 5156 samples\n",
      "INFO: Validation set: 1105 samples\n",
      "INFO: Test set: 1106 samples\n",
      "INFO: Validation MAE: 32.40, Test MAE: 34.29\n"
     ]
    }
   ],
   "source": [
    "# Random split\n",
    "X_train, X_temp, y_train, y_temp = train_test_split(\n",
    "    X, y, test_size=0.3, random_state=RANDOM_STATE\n",
    ")\n",
    "X_valid, X_test, y_valid, y_test = train_test_split(\n",
    "    X_temp, y_temp, test_size=0.5, random_state=RANDOM_STATE\n",
    ")\n",
    "\n",
    "log_splits(X_train, X_valid, X_test)\n",
    "\n",
    "# Evaluation\n",
    "valid_mae = train_and_evaluate(X_train, X_valid, y_train, y_valid)\n",
    "test_mae = train_and_evaluate(X_train, X_test, y_train, y_test)\n",
    "logging.info(f\"Validation MAE: {valid_mae:.2f}, Test MAE: {test_mae:.2f}\")"
   ]
  },
  {
   "cell_type": "markdown",
   "metadata": {},
   "source": [
    "### Random kfold split"
   ]
  },
  {
   "cell_type": "code",
   "execution_count": 51,
   "metadata": {},
   "outputs": [
    {
     "name": "stderr",
     "output_type": "stream",
     "text": [
      "INFO: Fold 1 MAE: 33.48\n",
      "INFO: Fold 2 MAE: 33.85\n",
      "INFO: Fold 3 MAE: 32.67\n",
      "INFO: Fold 4 MAE: 34.19\n",
      "INFO: Fold 5 MAE: 32.32\n",
      "INFO: CV MAE: 33.30 ± 0.70\n"
     ]
    }
   ],
   "source": [
    "kf = KFold(n_splits=5, shuffle=True, random_state=RANDOM_STATE)\n",
    "cv_scores = []\n",
    "\n",
    "for fold, (train_idx, test_idx) in enumerate(kf.split(X), 1):\n",
    "    fold_mae = train_and_evaluate(X[train_idx], X[test_idx], y[train_idx], y[test_idx])\n",
    "    cv_scores.append(fold_mae)\n",
    "    logging.info(f\"Fold {fold} MAE: {fold_mae:.2f}\")\n",
    "\n",
    "logging.info(f\"CV MAE: {np.mean(cv_scores):.2f} ± {np.std(cv_scores):.2f}\")\n"
   ]
  },
  {
   "cell_type": "markdown",
   "metadata": {},
   "source": [
    "### 2: Leave-cluster-out cross-validation"
   ]
  },
  {
   "cell_type": "code",
   "execution_count": 52,
   "metadata": {},
   "outputs": [
    {
     "name": "stderr",
     "output_type": "stream",
     "text": [
      "INFO: Training set: 3194 samples\n",
      "INFO: Validation set: 980 samples\n",
      "INFO: Test set: 3193 samples\n",
      "INFO: LOCOCV MAE: Valid 48.24, Test 42.85\n"
     ]
    }
   ],
   "source": [
    "loco = LOCOCV(\n",
    "    ds=dataset,\n",
    "    feature_names=dataset.available_features,\n",
    "    n_pca_components=3,\n",
    "    random_state=RANDOM_STATE,\n",
    "    scaled=True\n",
    ")\n",
    "\n",
    "# Single split\n",
    "train_idx, valid_idx, test_idx = loco.train_valid_test_split()\n",
    "log_splits(X[train_idx], X[valid_idx], X[test_idx])\n",
    "\n",
    "# Evaluation\n",
    "valid_mae = train_and_evaluate(X[train_idx], X[valid_idx], y[train_idx], y[valid_idx])\n",
    "test_mae = train_and_evaluate(X[train_idx], X[test_idx], y[train_idx], y[test_idx])\n",
    "logging.info(f\"LOCOCV MAE: Valid {valid_mae:.2f}, Test {test_mae:.2f}\")"
   ]
  },
  {
   "cell_type": "markdown",
   "metadata": {},
   "source": [
    "### 2: Leave-cluster-out cross-validation\n",
    "kfold split based on cluster"
   ]
  },
  {
   "cell_type": "code",
   "execution_count": 53,
   "metadata": {},
   "outputs": [
    {
     "name": "stderr",
     "output_type": "stream",
     "text": [
      "INFO: LOCOCV Fold 1 MAE: 35.52\n",
      "INFO: LOCOCV Fold 2 MAE: 39.54\n",
      "INFO: LOCOCV Fold 3 MAE: 37.36\n",
      "INFO: LOCOCV Fold 4 MAE: 56.58\n",
      "INFO: LOCOCV Fold 5 MAE: 37.71\n",
      "INFO: LOCOCV 5-Fold MAE: 41.34 ± 7.73\n"
     ]
    }
   ],
   "source": [
    "# LOCOCV 5-Fold\n",
    "loco_cv = LOCOCV(\n",
    "    ds=dataset,\n",
    "    feature_names=dataset.available_features,\n",
    "    n_pca_components=5,  # For 5-fold CV\n",
    "    random_state=RANDOM_STATE,\n",
    "    scaled=True\n",
    ")\n",
    "\n",
    "cv_scores = []\n",
    "for fold, (train_idx, test_idx) in enumerate(loco_cv.k_fold(k=5), 1):\n",
    "    fold_mae = train_and_evaluate(X[train_idx], X[test_idx], y[train_idx], y[test_idx])\n",
    "    cv_scores.append(fold_mae)\n",
    "    logging.info(f\"LOCOCV Fold {fold} MAE: {fold_mae:.2f}\")\n",
    "\n",
    "logging.info(f\"LOCOCV 5-Fold MAE: {np.mean(cv_scores):.2f} ± {np.std(cv_scores):.2f}\")\n"
   ]
  },
  {
   "cell_type": "markdown",
   "metadata": {},
   "source": [
    "### Tgsplitter"
   ]
  },
  {
   "cell_type": "code",
   "execution_count": 54,
   "metadata": {},
   "outputs": [
    {
     "name": "stderr",
     "output_type": "stream",
     "text": [
      "INFO: Training set: 3693 samples\n",
      "INFO: Validation set: 1842 samples\n",
      "INFO: Test set: 1832 samples\n",
      "INFO: TgSplitter MAE: Valid 34.13, Test 88.98\n"
     ]
    }
   ],
   "source": [
    "tg_splitter = TgSplitter(\n",
    "    ds=dataset,\n",
    "    tg_q=np.linspace(0, 1, 5),\n",
    "    shuffle=True,\n",
    "    random_state=RANDOM_STATE\n",
    ")\n",
    "\n",
    "# Single split\n",
    "train_idx, valid_idx, test_idx = tg_splitter.train_valid_test_split(\n",
    "    frac_train=0.7,\n",
    "    frac_valid=0.1\n",
    ")\n",
    "log_splits(X[train_idx], X[valid_idx], X[test_idx])\n",
    "\n",
    "# Evaluation\n",
    "valid_mae = train_and_evaluate(X[train_idx], X[valid_idx], y[train_idx], y[valid_idx])\n",
    "test_mae = train_and_evaluate(X[train_idx], X[test_idx], y[train_idx], y[test_idx])\n",
    "logging.info(f\"TgSplitter MAE: Valid {valid_mae:.2f}, Test {test_mae:.2f}\")"
   ]
  },
  {
   "cell_type": "markdown",
   "metadata": {},
   "source": [
    "### Tgsplitter\n",
    "kfold split"
   ]
  },
  {
   "cell_type": "code",
   "execution_count": 55,
   "metadata": {},
   "outputs": [
    {
     "name": "stderr",
     "output_type": "stream",
     "text": [
      "INFO: TgSplitter Fold 1 MAE: 89.37\n",
      "INFO: TgSplitter Fold 2 MAE: 33.59\n",
      "INFO: TgSplitter Fold 3 MAE: 47.56\n",
      "INFO: TgSplitter Fold 4 MAE: 45.61\n",
      "INFO: TgSplitter Fold 5 MAE: 92.25\n",
      "INFO: TgSplitter 5-Fold MAE: 61.68 ± 24.28\n"
     ]
    }
   ],
   "source": [
    "# TgSplitter Grouped K-Fold\n",
    "tg_splitter_cv = TgSplitter(\n",
    "    ds=dataset,\n",
    "    tg_q=np.linspace(0, 1, 6),  # 5 groups for 5-fold\n",
    "    shuffle=True,\n",
    "    random_state=RANDOM_STATE\n",
    ")\n",
    "\n",
    "groups = tg_splitter_cv._get_groups()\n",
    "unique_groups = np.unique(groups)\n",
    "cv_scores = []\n",
    "\n",
    "for fold, test_group in enumerate(unique_groups, 1):\n",
    "    train_mask = groups != test_group\n",
    "    test_mask = groups == test_group\n",
    "    \n",
    "    fold_mae = train_and_evaluate(X[train_mask], X[test_mask], y[train_mask], y[test_mask])\n",
    "    cv_scores.append(fold_mae)\n",
    "    logging.info(f\"TgSplitter Fold {fold} MAE: {fold_mae:.2f}\")\n",
    "\n",
    "logging.info(f\"TgSplitter 5-Fold MAE: {np.mean(cv_scores):.2f} ± {np.std(cv_scores):.2f}\")"
   ]
  }
 ],
 "metadata": {
  "kernelspec": {
   "display_name": "polymetrix",
   "language": "python",
   "name": "python3"
  },
  "language_info": {
   "codemirror_mode": {
    "name": "ipython",
    "version": 3
   },
   "file_extension": ".py",
   "mimetype": "text/x-python",
   "name": "python",
   "nbconvert_exporter": "python",
   "pygments_lexer": "ipython3",
   "version": "3.10.14"
  }
 },
 "nbformat": 4,
 "nbformat_minor": 2
}
